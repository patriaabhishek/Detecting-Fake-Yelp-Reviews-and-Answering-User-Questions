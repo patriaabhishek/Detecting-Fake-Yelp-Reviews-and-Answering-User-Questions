{
  "nbformat": 4,
  "nbformat_minor": 0,
  "metadata": {
    "colab": {
      "name": "Yelp Reviews Chicago.ipynb",
      "provenance": [],
      "collapsed_sections": []
    },
    "kernelspec": {
      "name": "python3",
      "display_name": "Python 3"
    }
  },
  "cells": [
    {
      "cell_type": "code",
      "metadata": {
        "id": "r7BmZ_CKRSJ5",
        "colab_type": "code",
        "colab": {}
      },
      "source": [
        "import requests\n",
        "import pandas as pd\n",
        "import random\n",
        "import collections\n",
        "import sys\n",
        "import os\n",
        "import warnings\n",
        "\n",
        "warnings.filterwarnings('ignore')"
      ],
      "execution_count": 0,
      "outputs": []
    },
    {
      "cell_type": "code",
      "metadata": {
        "id": "hh6u8osTWRHM",
        "colab_type": "code",
        "colab": {}
      },
      "source": [
        "DATA_FOLDER  = \"data/\""
      ],
      "execution_count": 0,
      "outputs": []
    },
    {
      "cell_type": "code",
      "metadata": {
        "id": "XNDWMx8bRTAo",
        "colab_type": "code",
        "colab": {}
      },
      "source": [
        "def get_yelp_api_key():\n",
        "    try:\n",
        "        f = open(\"key.txt\", \"r\")\n",
        "        key = f.readline()\n",
        "        f.close()    \n",
        "        return key\n",
        "\n",
        "    except OSError:\n",
        "        print('[ERROR]:Please provide your Yelp API key in key.txt')"
      ],
      "execution_count": 0,
      "outputs": []
    },
    {
      "cell_type": "code",
      "metadata": {
        "id": "x9RYjSwERZ5t",
        "colab_type": "code",
        "colab": {}
      },
      "source": [
        "def write_to_csv(df, file):\n",
        "    try: \n",
        "        os.mkdir(DATA_FOLDER)\n",
        "    except FileExistsError as _: \n",
        "        print('')    \n",
        "    \n",
        "    file_path = DATA_FOLDER + file\n",
        "    df.to_csv(file_path)   \n",
        "    print(\"### Done writing to file : \", file)\n"
      ],
      "execution_count": 0,
      "outputs": []
    },
    {
      "cell_type": "code",
      "metadata": {
        "id": "KyLAPcw6TgDW",
        "colab_type": "code",
        "colab": {}
      },
      "source": [
        "def read_csv(file, encoding = ''):\n",
        "    file_path = DATA_FOLDER + file\n",
        "    if len(encoding):\n",
        "        df = pd.read_csv(file_path, encoding = encoding) \n",
        "    else:\n",
        "        df = pd.read_csv(file_path)\n",
        "    return df"
      ],
      "execution_count": 0,
      "outputs": []
    },
    {
      "cell_type": "code",
      "metadata": {
        "id": "0NRgJDd5TniV",
        "colab_type": "code",
        "colab": {}
      },
      "source": [
        "def add_yelp_attrib(productID, fullResponse = False, attrib = \"alias\"):\n",
        "  base_url = 'https://api.yelp.com/v3/businesses/'\n",
        "  # biz_id = 'pbEiXam9YJL3neCYHGwLUA'\n",
        "  biz_id = productID\n",
        "  data_url = base_url + str(biz_id)\n",
        "  api_key = get_yelp_api_key()\n",
        "  headers = {\n",
        "      'Authorization': 'Bearer %s' % api_key,\n",
        "  }\n",
        "  response = requests.request('GET', data_url, headers=headers, params={}).json()\n",
        "  \n",
        "  if fullResponse:\n",
        "    return response\n",
        "  else: \n",
        "    return response[attrib]\n"
      ],
      "execution_count": 0,
      "outputs": []
    },
    {
      "cell_type": "code",
      "metadata": {
        "id": "rLhYCzzaFL3x",
        "colab_type": "code",
        "colab": {}
      },
      "source": [
        "def get_chicago_data(restaurants = True):\n",
        "  if restaurants:\n",
        "    url = 'output_meta_yelpResData_NRYRcleaned.txt'\n",
        "  else:\n",
        "    url = 'output_meta_yelpHotelData_NRYRcleaned.txt'\n",
        "  data = pd.read_csv(url, sep=\" \", header = None)\n",
        "  data.columns = [\"Date\", \"review ID\", \"reviewer ID\", \"product ID\", \"label\", \"xx\", \"yy\", \"zz\", \"Star Rating\"]\n",
        "  data = data[[\"Date\", \"review ID\", \"reviewer ID\", \"product ID\", \"label\", \"Star Rating\"]]\n",
        "   \n",
        "  return data"
      ],
      "execution_count": 0,
      "outputs": []
    },
    {
      "cell_type": "code",
      "metadata": {
        "id": "cczwUu78SRYP",
        "colab_type": "code",
        "colab": {}
      },
      "source": [
        "def get_data_attrib(item_set):\n",
        "  \n",
        "  result = []\n",
        "  for hotel in item_set:\n",
        "    hotel_id = hotel\n",
        "    attribs = add_yelp_attrib(hotel_id, fullResponse = True)\n",
        "    if len(attribs) == 0:\n",
        "        print(\"couldn't get data for id : \", hotel_id)\n",
        "\n",
        "    try:\n",
        "      zip_code = attribs['location']['zip_code']\n",
        "    except:\n",
        "      zip_code = \"Oops!\"  \n",
        "    try:\n",
        "      alias = attribs['alias']\n",
        "    except:\n",
        "      alias = \"Oops!\"\n",
        "    \n",
        "    try:\n",
        "      name = attribs['name']\n",
        "    except:\n",
        "      name = \"Oops!\"\n",
        "    \n",
        "    try:\n",
        "      coord = attribs['coordinates']\n",
        "      latitude = coord['latitude']  \n",
        "      longitude = coord['longitude']  \n",
        "    except:\n",
        "      latitude = -1\n",
        "      longitude = -1\n",
        "    \n",
        "    try:\n",
        "      rating = attribs['rating']\n",
        "    except:\n",
        "      rating = -1  \n",
        "  \n",
        "    try:\n",
        "      review_count = attrib['review_count']\n",
        "    except:\n",
        "      review_count = -1\n",
        "\n",
        "    result.append((hotel_id, name, alias, latitude, longitude, zip_code, rating, review_count))\n",
        "\n",
        "  return result"
      ],
      "execution_count": 0,
      "outputs": []
    },
    {
      "cell_type": "code",
      "metadata": {
        "id": "bIzGammDUYZj",
        "colab_type": "code",
        "outputId": "bae93610-97bf-42aa-d4ea-81909b880ea4",
        "colab": {
          "base_uri": "https://localhost:8080/",
          "height": 102
        }
      },
      "source": [
        "data = get_chicago_data()\n",
        "items = data['product ID']\n",
        "item_set = set(items.tolist())\n",
        "result = get_data_attrib(item_set)\n",
        "df = pd.DataFrame(result)\n",
        "df.columns = ['rest_id', 'name', 'alias', 'latitude', 'longitude', 'zip_code', 'rating', 'review_count']\n",
        "write_to_csv(df, 'chicago_restaurants.csv')"
      ],
      "execution_count": 0,
      "outputs": [
        {
          "output_type": "stream",
          "text": [
            "Total items 129\n",
            "result 129\n",
            "df len 129\n",
            "\n",
            "### Done writing to file :  chicago_restaurants.csv\n"
          ],
          "name": "stdout"
        }
      ]
    },
    {
      "cell_type": "code",
      "metadata": {
        "id": "Rtz-xUIWV4Bu",
        "colab_type": "code",
        "outputId": "cbb7c415-1fdc-47b2-df7e-18edd112fa1a",
        "colab": {
          "base_uri": "https://localhost:8080/",
          "height": 68
        }
      },
      "source": [
        "data = get_chicago_data(restaurants = False)\n",
        "items = data['product ID']\n",
        "item_set = set(items.tolist())\n",
        "result = get_data_attrib(item_set)\n",
        "\n",
        "df = pd.DataFrame(result)\n",
        "df.columns = ['rest_id', 'name', 'alias', 'latitude', 'longitude', 'zip_code', 'rating', 'review_count']\n",
        "write_to_csv(df, 'chicago_hotels.csv')"
      ],
      "execution_count": 0,
      "outputs": [
        {
          "output_type": "stream",
          "text": [
            "Total items 72\n",
            "\n",
            "### Done writing to file :  chicago_hotels.csv\n"
          ],
          "name": "stdout"
        }
      ]
    },
    {
      "cell_type": "code",
      "metadata": {
        "id": "cyGX_dPBdlNc",
        "colab_type": "code",
        "colab": {}
      },
      "source": [
        "#Chicago Filenames\n",
        "chi_hotel_data = 'output_meta_yelpHotelData_NRYRcleaned.txt'\n",
        "chi_hotel_review = 'output_review_yelpHotelData_NRYRcleaned.txt'\n",
        "chi_hotel_metadata = 'chicago_hotels.csv'\n",
        "\n",
        "chi_restaurants_data = 'output_meta_yelpResData_NRYRcleaned.txt'\n",
        "chi_restaurants_review = 'output_review_yelpResData_NRYRcleaned.txt'\n",
        "chi_restaurants_metadata = 'chicago_restaurants.csv'"
      ],
      "execution_count": 0,
      "outputs": []
    },
    {
      "cell_type": "code",
      "metadata": {
        "id": "mAypCA0PamoH",
        "colab_type": "code",
        "colab": {}
      },
      "source": [
        "chi_hotel_data = get_chicago_data(restaurants=False)\n",
        "chi_hotel_reviews = pd.DataFrame(open(chi_hotel_review).read().splitlines())\n",
        "\n",
        "chi_hotel_data = pd.concat([chi_hotel_data, chi_hotel_reviews], axis = 1)\n",
        "chi_hotel_data.rename(columns = {0: \"review\"}, inplace=True)\n",
        "\n",
        "chi_hotel_df = pd.read_csv(chi_hotel_metadata)\n",
        "\n",
        "chicago_flat_hotel = pd.merge(chi_hotel_data, chi_hotel_df, how='left', left_on='product ID', right_on='rest_id')\n",
        "\n",
        "write_to_csv(chicago_flat_hotel, 'chicago_flat_hotels.csv', False)"
      ],
      "execution_count": 0,
      "outputs": []
    },
    {
      "cell_type": "code",
      "metadata": {
        "id": "0MObSXeYaTSD",
        "colab_type": "code",
        "colab": {}
      },
      "source": [
        "chi_rest_data = get_chicago_data(restaurants=True)\n",
        "chi_rest_reviews = pd.DataFrame(open(chi_restaurants_review).read().splitlines())\n",
        "\n",
        "chi_rest_data = pd.concat([chi_rest_data, chi_rest_reviews], axis = 1)\n",
        "chi_rest_data.rename(columns = {0: \"review\"}, inplace=True)\n",
        "\n",
        "chi_rest_df = pd.read_csv(chi_restaurants_metadata)\n",
        "\n",
        "chicago_flat_rest = pd.merge(chi_rest_data, chi_rest_df, how='left', left_on='product ID', right_on='rest_id')\n",
        "\n",
        "write_to_csv(chicago_flat_rest, 'chicago_flat_restaurants.csv', False)"
      ],
      "execution_count": 0,
      "outputs": []
    },
    {
      "cell_type": "code",
      "metadata": {
        "id": "yhMKGv9XdVp6",
        "colab_type": "code",
        "colab": {}
      },
      "source": [
        "#Review based\n",
        "data = chicago_flat_rest\n",
        "data = data.rename(columns={\"reviewer ID\": \"user_id\", \"Date\": \"date\", \"product ID\": \"prod_id\"})\n",
        "data['review_len'] = data['review'].str.split().str.len()\n",
        "data['review_char'] = data['review'].str.len()\n",
        "\n",
        "punct_counter = lambda l1,l2: sum([1 for x in l1 if x in l2])\n",
        "data['punct_count'] = data['review'].apply(lambda s: punct_counter(s, string.punctuation))\n",
        "\n",
        "data['uppercase_count'] = data['review'].str.count(r'[A-Z]')\n"
      ],
      "execution_count": 0,
      "outputs": []
    },
    {
      "cell_type": "code",
      "metadata": {
        "id": "UZdbtR_3dWe7",
        "colab_type": "code",
        "colab": {}
      },
      "source": [
        "data['review_per_user'] = data.groupby('user_id')['user_id'].transform('size')\n",
        "data['avg_rating_per_user'] =data.groupby('user_id')['rating'].transform('sum')/data['review_per_user']\n",
        "data['avg_words_per_user'] = data.groupby('user_id')['review_len'].transform('sum')/data['review_per_user']\n",
        "data['num_review_per_user_each_day'] = data.groupby(['user_id', 'date'])['user_id'].transform('size')\n"
      ],
      "execution_count": 0,
      "outputs": []
    },
    {
      "cell_type": "code",
      "metadata": {
        "id": "RwBz7PNIdW8Z",
        "colab_type": "code",
        "colab": {}
      },
      "source": [
        "#Product based\n",
        "\n",
        "data['review_per_prod'] = data.groupby('prod_id')['prod_id'].transform('size')\n",
        "data['avg_rating_per_prod'] =data.groupby('prod_id')['rating'].transform('sum')/data['review_per_prod']\n",
        "data['avg_words_per_prod'] = data.groupby('prod_id')['review_len'].transform('sum')/data['review_per_prod']\n",
        "data['num_review_per_prod_each_day'] = data.groupby(['prod_id', 'date'])['prod_id'].transform('size')"
      ],
      "execution_count": 0,
      "outputs": []
    },
    {
      "cell_type": "code",
      "metadata": {
        "id": "Jhyw4XlvdhEA",
        "colab_type": "code",
        "colab": {}
      },
      "source": [
        "write_to_csv(data, 'chicago_features_restaurants.csv', False)"
      ],
      "execution_count": 0,
      "outputs": []
    }
  ]
}